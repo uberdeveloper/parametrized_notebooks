{
 "cells": [
  {
   "cell_type": "code",
   "execution_count": 30,
   "metadata": {},
   "outputs": [],
   "source": [
    "import pandas as pd\n",
    "import numpy as np\n",
    "from typing import List, Tuple"
   ]
  },
  {
   "cell_type": "code",
   "execution_count": 31,
   "metadata": {
    "tags": [
     "parameters"
    ]
   },
   "outputs": [],
   "source": [
    "#### Parameters\n",
    "spot_filename:str = \"/tmp/index.csv\"\n",
    "options_filename:str = \"../../data/nifty_options_eod.h5\"\n",
    "output_filename:str = 'output.csv' # Friendly name for output\n",
    "start_day:int = 4\n",
    "holding_days:int = 7\n",
    "de:int = 0\n",
    "step:int = 100 \n",
    "options:Tuple[Tuple[str, float]] = (\n",
    "    ('p', 0),\n",
    "    ('p', 0.01),\n",
    "    ('p', 0.02),\n",
    "    ('p', 0.03),\n",
    "    ('c', 0.0),\n",
    "    ('c', 0.01),\n",
    "    ('c', 0.02),\n",
    "    ('c', 0.03)\n",
    ")\n"
   ]
  },
  {
   "cell_type": "code",
   "execution_count": 32,
   "metadata": {},
   "outputs": [],
   "source": [
    "index = pd.read_csv(spot_filename, parse_dates=['date'])\n",
    "opt = pd.read_hdf(options_filename).sort_values(by=['date'])\n",
    "rename = {\n",
    "    'open_price': 'open',\n",
    "    'high_price': 'high',\n",
    "    'low_price': 'low',\n",
    "    'close_pric': 'close'\n",
    "}\n",
    "opt = opt.rename(columns=rename)\n",
    "opt['de'] = (opt['expiry_date'] - opt['date']).dt.days"
   ]
  },
  {
   "cell_type": "code",
   "execution_count": 33,
   "metadata": {},
   "outputs": [],
   "source": [
    "ce = opt.query(\"opt_type=='CE'\")\n",
    "pe = opt.query(\"opt_type=='PE'\")"
   ]
  },
  {
   "cell_type": "code",
   "execution_count": 34,
   "metadata": {},
   "outputs": [],
   "source": [
    "def get_result(options_data, spot_data, opt='p', wkday=4, de=0, itm=0, step=100, holding_days=7):\n",
    "    weekly = spot_data.query(f\"wkday=={wkday}\").copy()\n",
    "    if opt.lower() == 'p':\n",
    "        m = 1-itm\n",
    "    else:\n",
    "        m = 1+itm\n",
    "    weekly['strike'] = [int((x*m)/step)*step for x in weekly.close.values]\n",
    "    if opt.lower() == 'p':\n",
    "        weekly['strike'] = weekly['strike'] + step\n",
    "    opts = options_data.merge(weekly[['date', 'close', 'strike']].rename(\n",
    "        columns={'close':'spot'}), on=['date', 'strike'])\n",
    "    opts = opts.query(f\"de>{de}\")\n",
    "    opts = opts.sort_values(by='de').groupby('date').first().reset_index()\n",
    "    cols = ['date', 'contract_d', 'strike', 'expiry_date', 'close', 'spot']\n",
    "    entries = opts[cols].copy()\n",
    "    entries['entry_date'] = entries.date.copy()\n",
    "    exit_frame = entries.copy()\n",
    "    exit_frame['date'] = exit_frame.date + pd.DateOffset(days=holding_days)\n",
    "    del exit_frame['close'] # Since we need the other close in expiry\n",
    "    del exit_frame['contract_d'] \n",
    "    del exit_frame['spot']\n",
    "    opt2 = exit_frame.merge(options_data, on=['date', 'strike', 'expiry_date'])\n",
    "    opt2 = opt2.merge(index[['date', 'close']].rename(\n",
    "        columns={'close': 'spot'}), on=['date'])\n",
    "    exits = opt2[cols + ['entry_date']]\n",
    "    exits = exits.rename(columns={'date':'exit_date', 'entry_date': 'date'})\n",
    "    trades = entries.merge(exits, on=['strike', 'expiry_date', 'contract_d', 'date'])\n",
    "    rename = {\n",
    "        'date_x': 'entry_date',\n",
    "        'close_x': 'entry_price',\n",
    "        'spot_x': 'entry_spot',\n",
    "        'date_y': 'exit_date',\n",
    "        'close_y': 'exit_price',\n",
    "        'spot_y': 'exit_spot'\n",
    "    }\n",
    "    trades = trades.rename(columns=rename)\n",
    "    trades['pnl'] = trades.eval('exit_price-entry_price')\n",
    "    trades['de'] = (trades['expiry_date'] - trades['entry_date']).dt.days\n",
    "    return trades\n"
   ]
  },
  {
   "cell_type": "code",
   "execution_count": 35,
   "metadata": {},
   "outputs": [
    {
     "data": {
      "text/plain": [
       "count    2056.000000\n",
       "mean       -0.483512\n",
       "std       133.569121\n",
       "min      -496.150000\n",
       "25%       -54.475000\n",
       "50%       -19.375000\n",
       "75%        13.300000\n",
       "max      1564.200000\n",
       "Name: pnl, dtype: float64"
      ]
     },
     "execution_count": 35,
     "metadata": {},
     "output_type": "execute_result"
    }
   ],
   "source": [
    "collect = []\n",
    "for i,(opt,strike) in enumerate(options):\n",
    "    data = ce if opt =='c' else pe\n",
    "    temp = get_result(data, index, itm=strike,step=step, wkday=start_day, \n",
    "                      holding_days=holding_days, opt=opt)\n",
    "    temp['name'] = f\"opt{i}\"\n",
    "    collect.append(temp)\n",
    "res = pd.concat(collect)\n",
    "del collect\n",
    "res.pnl.describe()"
   ]
  },
  {
   "cell_type": "code",
   "execution_count": 36,
   "metadata": {},
   "outputs": [
    {
     "data": {
      "text/html": [
       "<div>\n",
       "<style scoped>\n",
       "    .dataframe tbody tr th:only-of-type {\n",
       "        vertical-align: middle;\n",
       "    }\n",
       "\n",
       "    .dataframe tbody tr th {\n",
       "        vertical-align: top;\n",
       "    }\n",
       "\n",
       "    .dataframe thead th {\n",
       "        text-align: right;\n",
       "    }\n",
       "</style>\n",
       "<table border=\"1\" class=\"dataframe\">\n",
       "  <thead>\n",
       "    <tr style=\"text-align: right;\">\n",
       "      <th>name</th>\n",
       "      <th>opt0</th>\n",
       "      <th>opt1</th>\n",
       "      <th>opt2</th>\n",
       "      <th>opt3</th>\n",
       "      <th>opt4</th>\n",
       "      <th>opt5</th>\n",
       "      <th>opt6</th>\n",
       "      <th>opt7</th>\n",
       "    </tr>\n",
       "  </thead>\n",
       "  <tbody>\n",
       "    <tr>\n",
       "      <th>count</th>\n",
       "      <td>117.000000</td>\n",
       "      <td>117.000000</td>\n",
       "      <td>117.000000</td>\n",
       "      <td>117.000000</td>\n",
       "      <td>117.000000</td>\n",
       "      <td>117.000000</td>\n",
       "      <td>117.000000</td>\n",
       "      <td>117.000000</td>\n",
       "    </tr>\n",
       "    <tr>\n",
       "      <th>mean</th>\n",
       "      <td>-20.753846</td>\n",
       "      <td>-12.967521</td>\n",
       "      <td>-8.405983</td>\n",
       "      <td>-2.690171</td>\n",
       "      <td>20.591453</td>\n",
       "      <td>19.090171</td>\n",
       "      <td>12.663675</td>\n",
       "      <td>8.123932</td>\n",
       "    </tr>\n",
       "    <tr>\n",
       "      <th>std</th>\n",
       "      <td>244.366807</td>\n",
       "      <td>215.898997</td>\n",
       "      <td>188.499834</td>\n",
       "      <td>170.891073</td>\n",
       "      <td>202.549330</td>\n",
       "      <td>167.156925</td>\n",
       "      <td>132.001719</td>\n",
       "      <td>102.619519</td>\n",
       "    </tr>\n",
       "    <tr>\n",
       "      <th>min</th>\n",
       "      <td>-496.150000</td>\n",
       "      <td>-451.950000</td>\n",
       "      <td>-403.850000</td>\n",
       "      <td>-403.850000</td>\n",
       "      <td>-352.050000</td>\n",
       "      <td>-296.250000</td>\n",
       "      <td>-244.450000</td>\n",
       "      <td>-198.500000</td>\n",
       "    </tr>\n",
       "    <tr>\n",
       "      <th>25%</th>\n",
       "      <td>-134.750000</td>\n",
       "      <td>-90.700000</td>\n",
       "      <td>-61.650000</td>\n",
       "      <td>-38.250000</td>\n",
       "      <td>-126.200000</td>\n",
       "      <td>-78.900000</td>\n",
       "      <td>-43.050000</td>\n",
       "      <td>-19.800000</td>\n",
       "    </tr>\n",
       "    <tr>\n",
       "      <th>50%</th>\n",
       "      <td>-87.650000</td>\n",
       "      <td>-55.700000</td>\n",
       "      <td>-35.750000</td>\n",
       "      <td>-19.950000</td>\n",
       "      <td>-34.400000</td>\n",
       "      <td>-46.700000</td>\n",
       "      <td>-19.950000</td>\n",
       "      <td>-9.650000</td>\n",
       "    </tr>\n",
       "    <tr>\n",
       "      <th>75%</th>\n",
       "      <td>19.900000</td>\n",
       "      <td>-27.550000</td>\n",
       "      <td>-19.500000</td>\n",
       "      <td>-9.200000</td>\n",
       "      <td>144.700000</td>\n",
       "      <td>75.750000</td>\n",
       "      <td>-3.050000</td>\n",
       "      <td>-3.950000</td>\n",
       "    </tr>\n",
       "    <tr>\n",
       "      <th>max</th>\n",
       "      <td>1564.200000</td>\n",
       "      <td>1504.800000</td>\n",
       "      <td>1441.200000</td>\n",
       "      <td>1370.450000</td>\n",
       "      <td>864.800000</td>\n",
       "      <td>811.050000</td>\n",
       "      <td>752.450000</td>\n",
       "      <td>613.900000</td>\n",
       "    </tr>\n",
       "  </tbody>\n",
       "</table>\n",
       "</div>"
      ],
      "text/plain": [
       "name          opt0         opt1         opt2         opt3        opt4  \\\n",
       "count   117.000000   117.000000   117.000000   117.000000  117.000000   \n",
       "mean    -20.753846   -12.967521    -8.405983    -2.690171   20.591453   \n",
       "std     244.366807   215.898997   188.499834   170.891073  202.549330   \n",
       "min    -496.150000  -451.950000  -403.850000  -403.850000 -352.050000   \n",
       "25%    -134.750000   -90.700000   -61.650000   -38.250000 -126.200000   \n",
       "50%     -87.650000   -55.700000   -35.750000   -19.950000  -34.400000   \n",
       "75%      19.900000   -27.550000   -19.500000    -9.200000  144.700000   \n",
       "max    1564.200000  1504.800000  1441.200000  1370.450000  864.800000   \n",
       "\n",
       "name         opt5        opt6        opt7  \n",
       "count  117.000000  117.000000  117.000000  \n",
       "mean    19.090171   12.663675    8.123932  \n",
       "std    167.156925  132.001719  102.619519  \n",
       "min   -296.250000 -244.450000 -198.500000  \n",
       "25%    -78.900000  -43.050000  -19.800000  \n",
       "50%    -46.700000  -19.950000   -9.650000  \n",
       "75%     75.750000   -3.050000   -3.950000  \n",
       "max    811.050000  752.450000  613.900000  "
      ]
     },
     "execution_count": 36,
     "metadata": {},
     "output_type": "execute_result"
    }
   ],
   "source": [
    "res2 = res.query('de<=7').pivot(index='date', columns=['name'], values='pnl')\n",
    "res2.loc['2019':].describe()"
   ]
  },
  {
   "cell_type": "code",
   "execution_count": 37,
   "metadata": {},
   "outputs": [],
   "source": [
    "res.to_csv('/tmp/output2.csv')"
   ]
  },
  {
   "cell_type": "code",
   "execution_count": 38,
   "metadata": {},
   "outputs": [],
   "source": [
    "res.to_csv(output_filename)"
   ]
  }
 ],
 "metadata": {
  "kernelspec": {
   "display_name": "Python 3 (ipykernel)",
   "language": "python",
   "name": "python3"
  },
  "language_info": {
   "codemirror_mode": {
    "name": "ipython",
    "version": 3
   },
   "file_extension": ".py",
   "mimetype": "text/x-python",
   "name": "python",
   "nbconvert_exporter": "python",
   "pygments_lexer": "ipython3",
   "version": "3.7.3"
  }
 },
 "nbformat": 4,
 "nbformat_minor": 4
}
