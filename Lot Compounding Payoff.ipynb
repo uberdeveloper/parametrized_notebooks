{
 "cells": [
  {
   "cell_type": "markdown",
   "id": "948c4a60-2812-44a3-b0e9-d8d09a704316",
   "metadata": {
    "tags": []
   },
   "source": [
    "# Lot compounding\n",
    "\n",
    "This notebook looks at methods on compounding lots; futures and options contracts that could be traded only in specific lots. Since these cannot be compounded in a fine grained manner, let us start with some simple methods.\n",
    "\n",
    "Assumptions\n",
    "------------\n",
    "\n",
    " 1. Profit and loss is expressed in points per contract\n",
    " 2. Capital required per contract is fairly stable over time. This is important in case you are **selling options**.\n",
    " 3. Commissions and slippage is included in the profit and loss\n",
    " \n",
    " "
   ]
  },
  {
   "cell_type": "code",
   "execution_count": 1,
   "id": "8e25e5c0-3970-46be-927a-50240928cbc5",
   "metadata": {},
   "outputs": [],
   "source": [
    "import pandas as pd\n",
    "import numpy as np\n",
    "from typing import Union, List, Tuple"
   ]
  },
  {
   "cell_type": "code",
   "execution_count": 2,
   "id": "d8448478-8ecc-4b23-8d0e-75e39b784b65",
   "metadata": {
    "tags": [
     "parameters"
    ]
   },
   "outputs": [],
   "source": [
    "# parameters\n",
    "\n",
    "probability_of_success = 0.6\n",
    "success_payoff = 70 # Payoff in points\n",
    "failure_payoff = 80 # Payoff in points\n",
    "initial_capital: float = 100000\n",
    "capital_per_lot:float = 40000\n",
    "lot_size:float = 50\n",
    "buffer:float = 60000\n",
    "num:int = 100\n",
    "sample:int = 300"
   ]
  },
  {
   "cell_type": "markdown",
   "id": "417cee92-fcc2-4fd3-bd90-e4e65253aee1",
   "metadata": {
    "jp-MarkdownHeadingCollapsed": true,
    "tags": []
   },
   "source": [
    "## Simple Method\n",
    "\n",
    "In the simple method, we allocate capital per lot based on capital required per lot and add maximum expected loss for a single lot. Maximum expected loss is the maximum loss per trade multiplied by the number of expected consecutive losing trade. We assume we could **estimate maximum loss per trade reasonably well.**\n",
    "\n",
    "\n",
    "Example\n",
    "-------\n",
    "    Lot size = 100\n",
    "    Capital required per lot = 50000\n",
    "    Maximum loss in points per trade = 100\n",
    "    Expected consecutive losses = 5\n",
    "    Expected maximum loss = 100*5*100 = 50000\n",
    "    Total capital to be allocated = 50000+50000 = 100000\n",
    "    \n",
    "\n",
    "So, lots would be increased if we earn necessary capital per lot and we would keep on trading till we exhaust our buffer. In this case, we would increase the lot size if we earn 50000 and keep on trading till our total capital falls to 50000.\n",
    "\n",
    "> Number of lots to trade = **int((total capital - expected maximum loss)/capital per lot)**\n"
   ]
  },
  {
   "cell_type": "code",
   "execution_count": 3,
   "id": "06459039-f7f9-49a7-ac28-594d9fbc4d9f",
   "metadata": {},
   "outputs": [],
   "source": [
    "def lot_compounding(pnl:Union[pd.Series, List, Tuple], initial_capital:float=100000,\n",
    "                   capital_per_lot:float=50000, buffer:float=50000, lot_size:float=100)->pd.DataFrame:\n",
    "    \"\"\"\n",
    "    Compounding based on loss\n",
    "    pnl\n",
    "        profit or loss in points per contract\n",
    "        points should not be multiplied by lot size\n",
    "    initial_capital\n",
    "        initial capital invested includes both capital per lot and buffer\n",
    "    capital_per_lot\n",
    "        capital required per lot\n",
    "    buffer\n",
    "        buffer for drawdown for a single lot\n",
    "    lot_size\n",
    "        lot size\n",
    "    \"\"\"\n",
    "    capital = initial_capital\n",
    "    capital_arr = []\n",
    "    lots_arr = []\n",
    "    profit_arr = []\n",
    "    for p in pnl:\n",
    "        lots = int((capital-buffer)/capital_per_lot)\n",
    "        if lots == 0:\n",
    "            if capital > capital_per_lot:\n",
    "                lots = 1\n",
    "        if lots > 0:\n",
    "            profit = p*lot_size*lots\n",
    "            capital += profit\n",
    "        else:\n",
    "            profit = 0\n",
    "        capital_arr.append(capital)\n",
    "        lots_arr.append(lots)\n",
    "        profit_arr.append(profit)\n",
    "        index = pnl.index if type(pnl)==pd.Series else np.arange(len(pnl))\n",
    "    return pd.DataFrame({\n",
    "        'lots': lots_arr,\n",
    "        'capital': capital_arr,\n",
    "        'profit': profit_arr,\n",
    "    }, index=index)\n"
   ]
  },
  {
   "cell_type": "code",
   "execution_count": 4,
   "id": "b7ed157b-b1a4-434f-afca-95c432d83fff",
   "metadata": {
    "tags": []
   },
   "outputs": [],
   "source": [
    "payoffs = np.random.choice([success_payoff,0-abs(failure_payoff)], \n",
    "                 size=(sample,num), p=[probability_of_success, 1-probability_of_success])"
   ]
  },
  {
   "cell_type": "code",
   "execution_count": 5,
   "id": "0fd31960-dbed-41eb-a27f-f96f1423baf1",
   "metadata": {},
   "outputs": [],
   "source": [
    "collect = []\n",
    "for p in payoffs:\n",
    "    l = lot_compounding(p,initial_capital=initial_capital,\n",
    "                       capital_per_lot=capital_per_lot, buffer=buffer, lot_size=lot_size)\n",
    "    collect.append(l)\n",
    "    "
   ]
  },
  {
   "cell_type": "code",
   "execution_count": 6,
   "id": "1aae00f4-b219-4cc0-acda-ef3a2780b2c3",
   "metadata": {},
   "outputs": [
    {
     "data": {
      "text/html": [
       "<div>\n",
       "<style scoped>\n",
       "    .dataframe tbody tr th:only-of-type {\n",
       "        vertical-align: middle;\n",
       "    }\n",
       "\n",
       "    .dataframe tbody tr th {\n",
       "        vertical-align: top;\n",
       "    }\n",
       "\n",
       "    .dataframe thead th {\n",
       "        text-align: right;\n",
       "    }\n",
       "</style>\n",
       "<table border=\"1\" class=\"dataframe\">\n",
       "  <thead>\n",
       "    <tr style=\"text-align: right;\">\n",
       "      <th></th>\n",
       "      <th>capital</th>\n",
       "      <th>lots</th>\n",
       "    </tr>\n",
       "  </thead>\n",
       "  <tbody>\n",
       "    <tr>\n",
       "      <th>count</th>\n",
       "      <td>3.000000e+02</td>\n",
       "      <td>300.000000</td>\n",
       "    </tr>\n",
       "    <tr>\n",
       "      <th>mean</th>\n",
       "      <td>1.727200e+05</td>\n",
       "      <td>2.360000</td>\n",
       "    </tr>\n",
       "    <tr>\n",
       "      <th>std</th>\n",
       "      <td>1.116607e+05</td>\n",
       "      <td>2.774176</td>\n",
       "    </tr>\n",
       "    <tr>\n",
       "      <th>min</th>\n",
       "      <td>4.000000e+04</td>\n",
       "      <td>0.000000</td>\n",
       "    </tr>\n",
       "    <tr>\n",
       "      <th>25%</th>\n",
       "      <td>1.200000e+05</td>\n",
       "      <td>1.000000</td>\n",
       "    </tr>\n",
       "    <tr>\n",
       "      <th>50%</th>\n",
       "      <td>1.380000e+05</td>\n",
       "      <td>1.000000</td>\n",
       "    </tr>\n",
       "    <tr>\n",
       "      <th>75%</th>\n",
       "      <td>1.828750e+05</td>\n",
       "      <td>3.000000</td>\n",
       "    </tr>\n",
       "    <tr>\n",
       "      <th>max</th>\n",
       "      <td>1.198500e+06</td>\n",
       "      <td>31.000000</td>\n",
       "    </tr>\n",
       "  </tbody>\n",
       "</table>\n",
       "</div>"
      ],
      "text/plain": [
       "            capital        lots\n",
       "count  3.000000e+02  300.000000\n",
       "mean   1.727200e+05    2.360000\n",
       "std    1.116607e+05    2.774176\n",
       "min    4.000000e+04    0.000000\n",
       "25%    1.200000e+05    1.000000\n",
       "50%    1.380000e+05    1.000000\n",
       "75%    1.828750e+05    3.000000\n",
       "max    1.198500e+06   31.000000"
      ]
     },
     "execution_count": 6,
     "metadata": {},
     "output_type": "execute_result"
    }
   ],
   "source": [
    "c2 = []\n",
    "for c in collect:\n",
    "    c7 = c.iloc[-1]\n",
    "    c2.append((c7['capital'], c7['lots']))\n",
    "df = pd.DataFrame(c2, columns=['capital', 'lots'])\n",
    "df.describe()"
   ]
  },
  {
   "cell_type": "code",
   "execution_count": 7,
   "id": "b8c2ac5e-26f8-431a-9377-539b16d733fd",
   "metadata": {},
   "outputs": [
    {
     "name": "stdout",
     "output_type": "stream",
     "text": [
      "Lot size distribution\n"
     ]
    },
    {
     "data": {
      "text/plain": [
       "<AxesSubplot:xlabel='lots', ylabel='Density'>"
      ]
     },
     "execution_count": 7,
     "metadata": {},
     "output_type": "execute_result"
    },
    {
     "data": {
      "image/png": "[encoded data removed]",
      "text/plain": [
       "<Figure size 360x360 with 1 Axes>"
      ]
     },
     "metadata": {
      "needs_background": "light"
     },
     "output_type": "display_data"
    }
   ],
   "source": [
    "import seaborn as sns\n",
    "print(\"Lot size distribution\")\n",
    "sns.displot(data=df, x='lots', kind='kde')\n",
    "sns.rugplot(data=df, x='lots')"
   ]
  },
  {
   "cell_type": "code",
   "execution_count": 8,
   "id": "e3c99317-154d-4ea5-9326-56f6885ea85c",
   "metadata": {},
   "outputs": [
    {
     "name": "stdout",
     "output_type": "stream",
     "text": [
      "Capital distribution\n"
     ]
    },
    {
     "data": {
      "text/plain": [
       "<AxesSubplot:xlabel='capital', ylabel='Density'>"
      ]
     },
     "execution_count": 8,
     "metadata": {},
     "output_type": "execute_result"
    },
    {
     "data": {
      "image/png": "[encoded data removed]",
      "text/plain": [
       "<Figure size 360x360 with 1 Axes>"
      ]
     },
     "metadata": {
      "needs_background": "light"
     },
     "output_type": "display_data"
    }
   ],
   "source": [
    "print(\"Capital distribution\")\n",
    "sns.displot(data=df, x='capital', kind='kde')\n",
    "sns.rugplot(data=df, x='capital')"
   ]
  }
 ],
 "metadata": {
  "kernelspec": {
   "display_name": "Python 3",
   "language": "python",
   "name": "python3"
  },
  "language_info": {
   "codemirror_mode": {
    "name": "ipython",
    "version": 3
   },
   "file_extension": ".py",
   "mimetype": "text/x-python",
   "name": "python",
   "nbconvert_exporter": "python",
   "pygments_lexer": "ipython3",
   "version": "3.7.3"
  },
  "toc-showtags": false
 },
 "nbformat": 4,
 "nbformat_minor": 5
}
