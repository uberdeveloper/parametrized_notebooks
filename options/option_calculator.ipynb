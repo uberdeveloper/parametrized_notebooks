{
 "cells": [
  {
   "cell_type": "code",
   "execution_count": 5,
   "id": "e6465dc5-088a-407f-9282-b1d7b54620e5",
   "metadata": {},
   "outputs": [],
   "source": [
    "import pandas as pd\n",
    "import numpy as np\n",
    "import py_vollib.black_scholes as bs\n",
    "from typing import Tuple"
   ]
  },
  {
   "cell_type": "code",
   "execution_count": 6,
   "id": "c661272a-f556-462a-91c7-1ccd715b386a",
   "metadata": {
    "tags": [
     "parameters"
    ]
   },
   "outputs": [],
   "source": [
    "# parameters\n",
    "option:str = 'c' # c for call and p for put\n",
    "strike:float = 16000\n",
    "spot:float = 16000\n",
    "day_range:Tuple[int,int] = (0,7)\n",
    "risk_free_rate:float = 0.1\n",
    "sigma_range:Tuple[int,int] = (0.1,0.16)\n"
   ]
  },
  {
   "cell_type": "code",
   "execution_count": 7,
   "id": "00765c7f-ff74-4d3e-9c42-9bb2e0385ee7",
   "metadata": {},
   "outputs": [],
   "source": [
    "kwargs = {\n",
    "    'flag': option,\n",
    "    'S': strike,\n",
    "    'K': spot,\n",
    "    't': 1,\n",
    "    'r': risk_free_rate,\n",
    "    'sigma': 0.1\n",
    "}"
   ]
  },
  {
   "cell_type": "code",
   "execution_count": 11,
   "id": "7a1bd1ca-9743-49a0-a630-f74cf45a4b4a",
   "metadata": {},
   "outputs": [
    {
     "data": {
      "text/html": [
       "<div>\n",
       "<style scoped>\n",
       "    .dataframe tbody tr th:only-of-type {\n",
       "        vertical-align: middle;\n",
       "    }\n",
       "\n",
       "    .dataframe tbody tr th {\n",
       "        vertical-align: top;\n",
       "    }\n",
       "\n",
       "    .dataframe thead th {\n",
       "        text-align: right;\n",
       "    }\n",
       "</style>\n",
       "<table border=\"1\" class=\"dataframe\">\n",
       "  <thead>\n",
       "    <tr style=\"text-align: right;\">\n",
       "      <th>sigma</th>\n",
       "      <th>0.10</th>\n",
       "      <th>0.11</th>\n",
       "      <th>0.12</th>\n",
       "      <th>0.13</th>\n",
       "      <th>0.14</th>\n",
       "      <th>0.15</th>\n",
       "    </tr>\n",
       "    <tr>\n",
       "      <th>days_to_expiry</th>\n",
       "      <th></th>\n",
       "      <th></th>\n",
       "      <th></th>\n",
       "      <th></th>\n",
       "      <th></th>\n",
       "      <th></th>\n",
       "    </tr>\n",
       "  </thead>\n",
       "  <tbody>\n",
       "    <tr>\n",
       "      <th>6</th>\n",
       "      <td>96.34</td>\n",
       "      <td>104.51</td>\n",
       "      <td>112.70</td>\n",
       "      <td>120.89</td>\n",
       "      <td>129.08</td>\n",
       "      <td>137.28</td>\n",
       "    </tr>\n",
       "    <tr>\n",
       "      <th>5</th>\n",
       "      <td>86.80</td>\n",
       "      <td>94.27</td>\n",
       "      <td>101.75</td>\n",
       "      <td>109.23</td>\n",
       "      <td>116.72</td>\n",
       "      <td>124.21</td>\n",
       "    </tr>\n",
       "    <tr>\n",
       "      <th>4</th>\n",
       "      <td>76.50</td>\n",
       "      <td>83.19</td>\n",
       "      <td>89.89</td>\n",
       "      <td>96.59</td>\n",
       "      <td>103.29</td>\n",
       "      <td>110.00</td>\n",
       "    </tr>\n",
       "    <tr>\n",
       "      <th>3</th>\n",
       "      <td>65.15</td>\n",
       "      <td>70.95</td>\n",
       "      <td>76.76</td>\n",
       "      <td>82.57</td>\n",
       "      <td>88.38</td>\n",
       "      <td>94.19</td>\n",
       "    </tr>\n",
       "    <tr>\n",
       "      <th>2</th>\n",
       "      <td>52.14</td>\n",
       "      <td>56.88</td>\n",
       "      <td>61.63</td>\n",
       "      <td>66.38</td>\n",
       "      <td>71.13</td>\n",
       "      <td>75.88</td>\n",
       "    </tr>\n",
       "    <tr>\n",
       "      <th>1</th>\n",
       "      <td>35.91</td>\n",
       "      <td>39.27</td>\n",
       "      <td>42.63</td>\n",
       "      <td>45.99</td>\n",
       "      <td>49.35</td>\n",
       "      <td>52.71</td>\n",
       "    </tr>\n",
       "    <tr>\n",
       "      <th>0</th>\n",
       "      <td>0.00</td>\n",
       "      <td>0.00</td>\n",
       "      <td>0.00</td>\n",
       "      <td>0.00</td>\n",
       "      <td>0.00</td>\n",
       "      <td>0.00</td>\n",
       "    </tr>\n",
       "  </tbody>\n",
       "</table>\n",
       "</div>"
      ],
      "text/plain": [
       "sigma            0.10    0.11    0.12    0.13    0.14    0.15\n",
       "days_to_expiry                                               \n",
       "6               96.34  104.51  112.70  120.89  129.08  137.28\n",
       "5               86.80   94.27  101.75  109.23  116.72  124.21\n",
       "4               76.50   83.19   89.89   96.59  103.29  110.00\n",
       "3               65.15   70.95   76.76   82.57   88.38   94.19\n",
       "2               52.14   56.88   61.63   66.38   71.13   75.88\n",
       "1               35.91   39.27   42.63   45.99   49.35   52.71\n",
       "0                0.00    0.00    0.00    0.00    0.00    0.00"
      ]
     },
     "execution_count": 11,
     "metadata": {},
     "output_type": "execute_result"
    }
   ],
   "source": [
    "collect = []\n",
    "for i in range(day_range[0], day_range[1]):\n",
    "    for j in np.arange(sigma_range[0], sigma_range[1], step=0.01):\n",
    "        kwargs.update(\n",
    "            {'t': i/360, 'sigma': j}\n",
    "        )\n",
    "        price = bs.black_scholes(**kwargs)\n",
    "        collect.append((i,j,price))\n",
    "df = pd.DataFrame(collect,\n",
    "                 columns=['days_to_expiry','sigma', 'price'])\n",
    "df.pivot(index='days_to_expiry', columns='sigma', values='price').sort_values(\n",
    "    by='days_to_expiry', ascending=False).round(2)"
   ]
  }
 ],
 "metadata": {
  "kernelspec": {
   "display_name": "Python 3",
   "language": "python",
   "name": "python3"
  },
  "language_info": {
   "codemirror_mode": {
    "name": "ipython",
    "version": 3
   },
   "file_extension": ".py",
   "mimetype": "text/x-python",
   "name": "python",
   "nbconvert_exporter": "python",
   "pygments_lexer": "ipython3",
   "version": "3.7.3"
  }
 },
 "nbformat": 4,
 "nbformat_minor": 5
}
