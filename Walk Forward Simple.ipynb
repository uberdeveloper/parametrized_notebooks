{
 "cells": [
  {
   "cell_type": "markdown",
   "id": "8f4d498e-4a3e-401f-9c01-123880f9a614",
   "metadata": {},
   "source": [
    "# Simple Walk Forward\n",
    "\n",
    "A simple walk forward implementation based on fixed periods"
   ]
  },
  {
   "cell_type": "code",
   "execution_count": null,
   "id": "e7fd6016-2fda-4e31-9efa-162391d6ff39",
   "metadata": {},
   "outputs": [],
   "source": [
    "import pandas as pd\n",
    "import numpy as np\n",
    "from typing import List, Callable"
   ]
  },
  {
   "cell_type": "code",
   "execution_count": null,
   "id": "2facd252-18fc-4e39-b607-68f3255fe0ea",
   "metadata": {
    "tags": [
     "parameters"
    ]
   },
   "outputs": [],
   "source": [
    "# Parameters\n",
    "filename:str ='/tmp/results.csv'\n",
    "parameters:List[str] = ['symbol']\n",
    "frequency:str = 'Q'\n",
    "column:str = 'ret'\n",
    "function:Callable = np.sum\n",
    "num:int = 15\n",
    "sort:bool = False"
   ]
  },
  {
   "cell_type": "code",
   "execution_count": null,
   "id": "d96739f2-d809-4731-b59a-2845431c7dba",
   "metadata": {},
   "outputs": [],
   "source": [
    "index = pd.read_csv(filename, parse_dates=['date']).set_index('date')\n",
    "grouped = index.resample(frequency)\n"
   ]
  },
  {
   "cell_type": "code",
   "execution_count": null,
   "id": "a54e8680-2b62-4b66-ad58-8cf0bd29df01",
   "metadata": {},
   "outputs": [],
   "source": [
    "%%time\n",
    "collect = {}\n",
    "param_dict = {}\n",
    "params = {}\n",
    "for i,(name, group) in enumerate(grouped):  \n",
    "    if i > 0:\n",
    "        res = group.copy()\n",
    "        if params:\n",
    "            for k,v in params.items():\n",
    "                res = res[res[k].isin(v)]\n",
    "            collect[name] = res\n",
    "            param_dict[name] = params\n",
    "    s = group.groupby(parameters).agg({column: function})\n",
    "    select = s.sort_values(by=column, ascending=sort).head(num).index\n",
    "    if len(select.names) == 1:\n",
    "        params = {select.name:list(select.values)}\n",
    "        \n",
    "result = pd.concat(collect.values())"
   ]
  }
 ],
 "metadata": {
  "kernelspec": {
   "display_name": "Python 3",
   "language": "python",
   "name": "python3"
  },
  "language_info": {
   "codemirror_mode": {
    "name": "ipython",
    "version": 3
   },
   "file_extension": ".py",
   "mimetype": "text/x-python",
   "name": "python",
   "nbconvert_exporter": "python",
   "pygments_lexer": "ipython3",
   "version": "3.7.3"
  }
 },
 "nbformat": 4,
 "nbformat_minor": 5
}
