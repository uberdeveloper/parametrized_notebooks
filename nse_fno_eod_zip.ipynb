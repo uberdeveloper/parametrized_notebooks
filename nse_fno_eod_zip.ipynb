{
 "cells": [
  {
   "cell_type": "markdown",
   "id": "80bd7b76-ffb8-4b30-81a3-696f1100ada0",
   "metadata": {},
   "source": [
    "# Options data extraction from NSE files"
   ]
  },
  {
   "cell_type": "markdown",
   "id": "bf474445-45e3-4259-bd69-285ad3f80979",
   "metadata": {},
   "source": [
    "## Extract data\n",
    "\n",
    "\n",
    "Extracting data from NSE files"
   ]
  },
  {
   "cell_type": "code",
   "execution_count": 7,
   "id": "65d11743-d92e-4d93-9f4c-fbf0e65b751f",
   "metadata": {},
   "outputs": [],
   "source": [
    "import pandas as pd\n",
    "import numpy as np\n",
    "import zipfile\n",
    "import os"
   ]
  },
  {
   "cell_type": "code",
   "execution_count": null,
   "id": "28acf106-03ff-494a-ba29-d3e0a690b2fe",
   "metadata": {
    "tags": [
     "parameters"
    ]
   },
   "outputs": [],
   "source": [
    "# PARAMETERS\n",
    "directory:str = \"/home/data\"\n",
    "pattern:str = \"OPTIDXNIFTY\\d\"\n",
    "output_file:str = \"/tmp/options.h5\"\n",
    "cpus:int = os.cpu_count()"
   ]
  },
  {
   "cell_type": "code",
   "execution_count": null,
   "id": "5912839e-9575-4dac-826e-4c0506b2c1a2",
   "metadata": {},
   "outputs": [],
   "source": [
    "for a,b,c in os.walk(directory):\n",
    "    files = [os.path.join(a,f) for f in c]\n",
    "    break"
   ]
  },
  {
   "cell_type": "code",
   "execution_count": null,
   "id": "5ee6a7ff-0c34-4450-b4df-a0843ead6745",
   "metadata": {},
   "outputs": [],
   "source": [
    "def extract_data(filename, pattern):\n",
    "    try:\n",
    "        z = zipfile.ZipFile(filename)\n",
    "        collect = []\n",
    "        for f in z.filelist:\n",
    "            df = pd.read_csv(z.open(f.filename))\n",
    "            collect.append(df)\n",
    "        df2 = pd.concat(collect)\n",
    "        df2['DATE'] = pd.to_datetime(filename.split('/')[-1][2:8],dayfirst=True)\n",
    "        df2.columns = [str(x).lower() for x in df2.columns]\n",
    "        return df2[df2.contract_d.str.match(pattern)]\n",
    "    except Exception as e:\n",
    "        print(e)\n",
    "        # return an empty dataframe since this would be useful in\n",
    "        # concantenating dataframes\n",
    "        return pd.DataFrame()\n"
   ]
  },
  {
   "cell_type": "code",
   "execution_count": null,
   "id": "d0bc411e-9aab-4f91-a138-1dcfdf7a80e6",
   "metadata": {},
   "outputs": [],
   "source": [
    "from multiprocessing import Pool\n",
    "from functools import partial\n",
    "extract_data_partial = partial(extract_data, pattern=pattern)"
   ]
  },
  {
   "cell_type": "code",
   "execution_count": null,
   "id": "7ebe951f-bd58-4ae1-be3b-cd71e7d886f7",
   "metadata": {},
   "outputs": [],
   "source": [
    "%%time\n",
    "with Pool(cpus) as p:\n",
    "    result = p.map(extract_data_partial, files)"
   ]
  },
  {
   "cell_type": "code",
   "execution_count": null,
   "id": "24269f3d-74b8-4bc1-a527-20d3ea872d9f",
   "metadata": {
    "tags": []
   },
   "outputs": [],
   "source": [
    "%%time\n",
    "data = pd.concat(result)\n",
    "del result # Free up some memory"
   ]
  },
  {
   "cell_type": "markdown",
   "id": "5dd2350d-d39f-4fa5-89e0-769dc923e236",
   "metadata": {},
   "source": [
    "## Process data for further processing"
   ]
  },
  {
   "cell_type": "raw",
   "id": "5bbe0f36-7f94-4e37-aa75-19e45fcc59f4",
   "metadata": {},
   "source": [
    "# Change this cell to code if you have already extracted the data\n",
    "# Change the read method and filename based on your available format\n",
    "data = pd.read_csv(output_file)"
   ]
  },
  {
   "cell_type": "code",
   "execution_count": null,
   "id": "5a924924-3343-4a74-a655-8dd8a6adca57",
   "metadata": {},
   "outputs": [],
   "source": [
    "%%time\n",
    "symbol = pattern[:-2]\n",
    "l = len(symbol)\n",
    "data['segment'] = data.contract_d.str[:6]\n",
    "data['contract'] = data.contract_d.str[6:l]\n",
    "data['expiry_date'] = pd.to_datetime(data.contract_d.str[l:l+11].values)\n",
    "data['opt_type'] = data.contract_d.str[l+11:l+13]\n",
    "data['strike'] = data.contract_d.str[l+13:].astype(int)"
   ]
  },
  {
   "cell_type": "code",
   "execution_count": null,
   "id": "35ea4dfc-5554-477c-9fbf-62fdf7ccaf51",
   "metadata": {},
   "outputs": [],
   "source": [
    "data.head()"
   ]
  },
  {
   "cell_type": "code",
   "execution_count": null,
   "id": "b05a2001-f37a-415e-9163-cadfe3ab35b7",
   "metadata": {},
   "outputs": [],
   "source": [
    "%%time\n",
    "# Try writing in HDF5 format. If it raises an error, write it in csv format\n",
    "try:\n",
    "    data.to_hdf(output_file, key='data', format='fixed')\n",
    "except Exception as e:\n",
    "    data.to_csv(output_file+'.csv', index=False)\n",
    "    print(e)"
   ]
  }
 ],
 "metadata": {
  "kernelspec": {
   "display_name": "Python 3",
   "language": "python",
   "name": "python3"
  },
  "language_info": {
   "codemirror_mode": {
    "name": "ipython",
    "version": 3
   },
   "file_extension": ".py",
   "mimetype": "text/x-python",
   "name": "python",
   "nbconvert_exporter": "python",
   "pygments_lexer": "ipython3",
   "version": "3.7.3"
  }
 },
 "nbformat": 4,
 "nbformat_minor": 5
}
