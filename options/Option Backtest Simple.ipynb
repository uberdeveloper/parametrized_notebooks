{
 "cells": [
  {
   "cell_type": "code",
   "execution_count": 97,
   "metadata": {},
   "outputs": [],
   "source": [
    "import pandas as pd\n",
    "import numpy as np\n",
    "from typing import List, Tuple"
   ]
  },
  {
   "cell_type": "code",
   "execution_count": 98,
   "metadata": {
    "tags": [
     "parameters"
    ]
   },
   "outputs": [],
   "source": [
    "# Parameters\n",
    "spot_filename:str = \"/tmp/index.csv\"\n",
    "options_filename:str = \"../../data/nifty_options_eod.h5\"\n",
    "start_day:int = 4\n",
    "holding_days:int = 7\n",
    "de:int = 0\n",
    "step:int = 50 \n",
    "options:Tuple[Tuple[str, float]] = (\n",
    "    ('p', 0),\n",
    "    ('p', 0.02),\n",
    ")"
   ]
  },
  {
   "cell_type": "code",
   "execution_count": 99,
   "metadata": {},
   "outputs": [],
   "source": [
    "index = pd.read_csv(spot_filename, parse_dates=['date'])\n",
    "opt = pd.read_hdf(options_filename).sort_values(by=['date'])\n",
    "rename = {\n",
    "    'open_price': 'open',\n",
    "    'high_price': 'high',\n",
    "    'low_price': 'low',\n",
    "    'close_pric': 'close'\n",
    "}\n",
    "opt = opt.rename(columns=rename)\n",
    "opt['de'] = (opt['expiry_date'] - opt['date']).dt.days"
   ]
  },
  {
   "cell_type": "code",
   "execution_count": 100,
   "metadata": {},
   "outputs": [],
   "source": [
    "ce = opt.query(\"opt_type=='CE'\")\n",
    "pe = opt.query(\"opt_type=='PE'\")"
   ]
  },
  {
   "cell_type": "code",
   "execution_count": 101,
   "metadata": {},
   "outputs": [],
   "source": [
    "def get_result(options_data, spot_data, opt='p', wkday=4, de=0, itm=0, step=100, holding_days=7):\n",
    "    weekly = spot_data.query(f\"wkday=={wkday}\").copy()\n",
    "    if opt.lower() == 'p':\n",
    "        m = 1-itm\n",
    "    else:\n",
    "        m = 1+itm\n",
    "    weekly['strike'] = [int((x*m)/step)*step for x in weekly.close.values]\n",
    "    if opt.lower() == 'p':\n",
    "        weekly['strike'] = weekly['strike'] + step\n",
    "    opts = options_data.merge(weekly[['date', 'close', 'strike']].rename(\n",
    "        columns={'close':'spot'}), on=['date', 'strike'])\n",
    "    opts = opts.query(f\"de>{de}\")\n",
    "    opts = opts.sort_values(by='de').groupby('date').first().reset_index()\n",
    "    cols = ['date', 'contract_d', 'strike', 'expiry_date', 'close', 'spot']\n",
    "    entries = opts[cols].copy()\n",
    "    entries['entry_date'] = entries.date.copy()\n",
    "    exit_frame = entries.copy()\n",
    "    exit_frame['date'] = exit_frame.date + pd.DateOffset(days=holding_days)\n",
    "    del exit_frame['close'] # Since we need the other close in expiry\n",
    "    del exit_frame['contract_d'] \n",
    "    del exit_frame['spot']\n",
    "    opt2 = exit_frame.merge(options_data, on=['date', 'strike', 'expiry_date'])\n",
    "    opt2 = opt2.merge(index[['date', 'close']].rename(\n",
    "        columns={'close': 'spot'}), on=['date'])\n",
    "    exits = opt2[cols + ['entry_date']]\n",
    "    exits = exits.rename(columns={'date':'exit_date', 'entry_date': 'date'})\n",
    "    trades = entries.merge(exits, on=['strike', 'expiry_date', 'contract_d', 'date'])\n",
    "    rename = {\n",
    "        'date_x': 'entry_date',\n",
    "        'close_x': 'entry_price',\n",
    "        'spot_x': 'entry_spot',\n",
    "        'date_y': 'exit_date',\n",
    "        'close_y': 'exit_price',\n",
    "        'spot_y': 'exit_spot'\n",
    "    }\n",
    "    trades = trades.rename(columns=rename)\n",
    "    trades['pnl'] = trades.eval('exit_price-entry_price')\n",
    "    trades['de'] = (trades['expiry_date'] - trades['entry_date']).dt.days\n",
    "    return trades\n"
   ]
  },
  {
   "cell_type": "code",
   "execution_count": 102,
   "metadata": {},
   "outputs": [
    {
     "data": {
      "text/plain": [
       "count     508.000000\n",
       "mean      -11.586713\n",
       "std       164.067914\n",
       "min      -496.150000\n",
       "25%       -77.037500\n",
       "50%       -43.375000\n",
       "75%         4.200000\n",
       "max      1564.200000\n",
       "Name: pnl, dtype: float64"
      ]
     },
     "execution_count": 102,
     "metadata": {},
     "output_type": "execute_result"
    }
   ],
   "source": [
    "collect = []\n",
    "for i,(opt,strike) in enumerate(options):\n",
    "    data = ce if opt =='c' else pe\n",
    "    temp = get_result(data, index, itm=strike,step=step, wkday=start_day, \n",
    "                      holding_days=holding_days)\n",
    "    temp['name'] = f\"opt{i}\"\n",
    "    collect.append(temp)\n",
    "res = pd.concat(collect)\n",
    "del collect\n",
    "res.pnl.describe()"
   ]
  },
  {
   "cell_type": "code",
   "execution_count": 103,
   "metadata": {},
   "outputs": [],
   "source": [
    "res2 = res.pivot(index='date', columns=['name'], values='pnl')"
   ]
  },
  {
   "cell_type": "code",
   "execution_count": 110,
   "metadata": {},
   "outputs": [
    {
     "data": {
      "text/html": [
       "<div>\n",
       "<style scoped>\n",
       "    .dataframe tbody tr th:only-of-type {\n",
       "        vertical-align: middle;\n",
       "    }\n",
       "\n",
       "    .dataframe tbody tr th {\n",
       "        vertical-align: top;\n",
       "    }\n",
       "\n",
       "    .dataframe thead th {\n",
       "        text-align: right;\n",
       "    }\n",
       "</style>\n",
       "<table border=\"1\" class=\"dataframe\">\n",
       "  <thead>\n",
       "    <tr style=\"text-align: right;\">\n",
       "      <th></th>\n",
       "      <th>opt0</th>\n",
       "      <th>opt1</th>\n",
       "      <th>pnl</th>\n",
       "    </tr>\n",
       "  </thead>\n",
       "  <tbody>\n",
       "    <tr>\n",
       "      <th>count</th>\n",
       "      <td>119.000000</td>\n",
       "      <td>119.000000</td>\n",
       "      <td>119.000000</td>\n",
       "    </tr>\n",
       "    <tr>\n",
       "      <th>mean</th>\n",
       "      <td>-17.121008</td>\n",
       "      <td>-12.967647</td>\n",
       "      <td>4.153361</td>\n",
       "    </tr>\n",
       "    <tr>\n",
       "      <th>std</th>\n",
       "      <td>238.417189</td>\n",
       "      <td>210.342909</td>\n",
       "      <td>53.134555</td>\n",
       "    </tr>\n",
       "    <tr>\n",
       "      <th>min</th>\n",
       "      <td>-496.150000</td>\n",
       "      <td>-451.950000</td>\n",
       "      <td>-102.700000</td>\n",
       "    </tr>\n",
       "    <tr>\n",
       "      <th>25%</th>\n",
       "      <td>-124.725000</td>\n",
       "      <td>-81.050000</td>\n",
       "      <td>-54.750000</td>\n",
       "    </tr>\n",
       "    <tr>\n",
       "      <th>50%</th>\n",
       "      <td>-83.700000</td>\n",
       "      <td>-58.250000</td>\n",
       "      <td>29.900000</td>\n",
       "    </tr>\n",
       "    <tr>\n",
       "      <th>75%</th>\n",
       "      <td>3.900000</td>\n",
       "      <td>-27.925000</td>\n",
       "      <td>45.625000</td>\n",
       "    </tr>\n",
       "    <tr>\n",
       "      <th>max</th>\n",
       "      <td>1564.200000</td>\n",
       "      <td>1504.800000</td>\n",
       "      <td>69.350000</td>\n",
       "    </tr>\n",
       "  </tbody>\n",
       "</table>\n",
       "</div>"
      ],
      "text/plain": [
       "              opt0         opt1         pnl\n",
       "count   119.000000   119.000000  119.000000\n",
       "mean    -17.121008   -12.967647    4.153361\n",
       "std     238.417189   210.342909   53.134555\n",
       "min    -496.150000  -451.950000 -102.700000\n",
       "25%    -124.725000   -81.050000  -54.750000\n",
       "50%     -83.700000   -58.250000   29.900000\n",
       "75%       3.900000   -27.925000   45.625000\n",
       "max    1564.200000  1504.800000   69.350000"
      ]
     },
     "execution_count": 110,
     "metadata": {},
     "output_type": "execute_result"
    }
   ],
   "source": [
    "mx = index.set_index('date').merge(res2, right_index=True, left_index=True)\n",
    "mx['pnl'] = mx.eval('-opt0+opt1')\n",
    "mx.query('close>0').loc['2019':, 'opt0':].describe()"
   ]
  }
 ],
 "metadata": {
  "kernelspec": {
   "display_name": "Python 3",
   "language": "python",
   "name": "python3"
  },
  "language_info": {
   "codemirror_mode": {
    "name": "ipython",
    "version": 3
   },
   "file_extension": ".py",
   "mimetype": "text/x-python",
   "name": "python",
   "nbconvert_exporter": "python",
   "pygments_lexer": "ipython3",
   "version": "3.7.3"
  }
 },
 "nbformat": 4,
 "nbformat_minor": 4
}
