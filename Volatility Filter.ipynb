{
 "cells": [
  {
   "cell_type": "code",
   "execution_count": 108,
   "id": "3c46efbb-5b87-4383-8c47-53face9b5d82",
   "metadata": {},
   "outputs": [],
   "source": [
    "import pandas as pd"
   ]
  },
  {
   "cell_type": "code",
   "execution_count": 197,
   "id": "bbe252ac-b139-424e-a934-9b4aeb87ede9",
   "metadata": {},
   "outputs": [],
   "source": [
    "df = pd.read_csv('/home/pi/data/nifty_50.csv',\n",
    "                parse_dates=['Date']).rename(\n",
    "columns=lambda x:x.lower()).sort_values(by=['date']).reset_index(drop=True)\n",
    "df = df.set_index('date').loc['2015':]\n"
   ]
  },
  {
   "cell_type": "code",
   "execution_count": 209,
   "id": "d2428298-6e47-48bf-b7dd-49ddba3abbe7",
   "metadata": {},
   "outputs": [
    {
     "data": {
      "text/plain": [
       "count    855.000000\n",
       "mean       0.005912\n",
       "std        0.023857\n",
       "min       -0.091599\n",
       "25%       -0.007602\n",
       "50%        0.006982\n",
       "75%        0.021326\n",
       "max        0.089787\n",
       "Name: fret, dtype: float64"
      ]
     },
     "execution_count": 209,
     "metadata": {},
     "output_type": "execute_result"
    }
   ],
   "source": [
    "df['h'] = df.high.rolling(60).max()\n",
    "df['l'] = df.low.rolling(60).min()\n",
    "df['dh'] = df.eval('(h/close)-1')\n",
    "df['dl'] = df.eval('(close/l)-1')\n",
    "df['fret'] = df.close.pct_change(10).shift(-10)\n",
    "df.fret.describe()\n",
    "df.query('dh<0.03').fret.describe()\n"
   ]
  }
 ],
 "metadata": {
  "kernelspec": {
   "display_name": "Python 3",
   "language": "python",
   "name": "python3"
  },
  "language_info": {
   "codemirror_mode": {
    "name": "ipython",
    "version": 3
   },
   "file_extension": ".py",
   "mimetype": "text/x-python",
   "name": "python",
   "nbconvert_exporter": "python",
   "pygments_lexer": "ipython3",
   "version": "3.7.3"
  }
 },
 "nbformat": 4,
 "nbformat_minor": 5
}
