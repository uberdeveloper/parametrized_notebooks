{
 "cells": [
  {
   "cell_type": "code",
   "execution_count": 131,
   "metadata": {},
   "outputs": [],
   "source": [
    "import pandas as pd\n",
    "import numpy as np\n",
    "from typing import List, Tuple"
   ]
  },
  {
   "cell_type": "code",
   "execution_count": 157,
   "metadata": {
    "tags": [
     "parameters"
    ]
   },
   "outputs": [],
   "source": [
    "# Parameters\n",
    "spot_filename:str = \"/tmp/index.csv\"\n",
    "options_filename:str = \"../../data/nifty_options_eod.h5\"\n",
    "start_day:int = 4\n",
    "de:int = 0\n",
    "step:int = 50 \n",
    "options:Tuple[Tuple[str, float]] = (\n",
    "    ('p', 0),\n",
    "    ('p', 0.01),\n",
    "    ('c', 0)\n",
    ")"
   ]
  },
  {
   "cell_type": "code",
   "execution_count": 158,
   "metadata": {},
   "outputs": [],
   "source": [
    "index = pd.read_csv(spot_filename, parse_dates=['date'])\n",
    "opt = pd.read_hdf(options_filename).sort_values(by=['date'])\n",
    "rename = {\n",
    "    'open_price': 'open',\n",
    "    'high_price': 'high',\n",
    "    'low_price': 'low',\n",
    "    'close_pric': 'close'\n",
    "}\n",
    "opt = opt.rename(columns=rename)\n",
    "opt['de'] = (opt['expiry_date'] - opt['date']).dt.days"
   ]
  },
  {
   "cell_type": "code",
   "execution_count": 159,
   "metadata": {},
   "outputs": [],
   "source": [
    "ce = opt.query(\"opt_type=='CE'\")\n",
    "pe = opt.query(\"opt_type=='PE'\")"
   ]
  },
  {
   "cell_type": "code",
   "execution_count": 160,
   "metadata": {},
   "outputs": [],
   "source": [
    "def get_result(options_data, spot_data, opt='p', wkday=4, de=0, itm=0, step=100, holding_days=7):\n",
    "    weekly = spot_data.query(f\"wkday=={wkday}\").copy()\n",
    "    if opt.lower() == 'p':\n",
    "        m = 1-itm\n",
    "    else:\n",
    "        m = 1+itm\n",
    "    weekly['strike'] = [int((x*m)/step)*step for x in weekly.close.values]\n",
    "    if opt.lower() == 'p':\n",
    "        weekly['strike'] = weekly['strike'] + step\n",
    "    opts = options_data.merge(weekly[['date', 'close', 'strike']].rename(\n",
    "        columns={'close':'spot'}), on=['date', 'strike'])\n",
    "    opts = opts.query(f\"de>{de}\")\n",
    "    opts = opts.sort_values(by='de').groupby('date').first().reset_index()\n",
    "    cols = ['date', 'contract_d', 'strike', 'expiry_date', 'close', 'spot']\n",
    "    entries = opts[cols].copy()\n",
    "    entries['entry_date'] = entries.date.copy()\n",
    "    exit_frame = entries.copy()\n",
    "    exit_frame['date'] = exit_frame.date + pd.DateOffset(days=holding_days)\n",
    "    del exit_frame['close'] # Since we need the other close in expiry\n",
    "    del exit_frame['contract_d'] \n",
    "    del exit_frame['spot']\n",
    "    opt2 = exit_frame.merge(options_data, on=['date', 'strike', 'expiry_date'])\n",
    "    opt2 = opt2.merge(weekly[['date', 'close']].rename(\n",
    "        columns={'close': 'spot'}), on=['date'])\n",
    "    exits = opt2[cols + ['entry_date']]\n",
    "    exits = exits.rename(columns={'date':'exit_date', 'entry_date': 'date'})\n",
    "    trades = entries.merge(exits, on=['strike', 'expiry_date', 'contract_d', 'date'])\n",
    "    rename = {\n",
    "        'date_x': 'entry_date',\n",
    "        'close_x': 'entry_price',\n",
    "        'spot_x': 'entry_spot',\n",
    "        'date_y': 'exit_date',\n",
    "        'close_y': 'exit_price',\n",
    "        'spot_y': 'exit_spot'\n",
    "    }\n",
    "    trades = trades.rename(columns=rename)\n",
    "    trades['pnl'] = trades.eval('exit_price-entry_price')\n",
    "    trades['de'] = (trades['exit_date'] - trades['entry_date']).dt.days\n",
    "    return trades\n"
   ]
  },
  {
   "cell_type": "code",
   "execution_count": 161,
   "metadata": {},
   "outputs": [
    {
     "data": {
      "text/plain": [
       "count     762.000000\n",
       "mean       -3.735761\n",
       "std       155.439361\n",
       "min      -496.150000\n",
       "25%       -74.750000\n",
       "50%       -40.275000\n",
       "75%        25.925000\n",
       "max      1564.200000\n",
       "Name: pnl, dtype: float64"
      ]
     },
     "execution_count": 161,
     "metadata": {},
     "output_type": "execute_result"
    }
   ],
   "source": [
    "collect = []\n",
    "for i,(opt,strike) in enumerate(options):\n",
    "    data = ce if opt =='c' else pe\n",
    "    temp = get_result(data, index, itm=strike,step=step)\n",
    "    temp['name'] = i\n",
    "    collect.append(temp)\n",
    "res = pd.concat(collect)\n",
    "del collect\n",
    "res.pnl.describe()"
   ]
  },
  {
   "cell_type": "code",
   "execution_count": 162,
   "metadata": {},
   "outputs": [
    {
     "data": {
      "text/plain": [
       "count    254.000000\n",
       "mean      13.636024\n",
       "std      164.413010\n",
       "min     -358.050000\n",
       "25%     -107.450000\n",
       "50%       -4.000000\n",
       "75%       94.962500\n",
       "max      908.200000\n",
       "dtype: float64"
      ]
     },
     "execution_count": 162,
     "metadata": {},
     "output_type": "execute_result"
    }
   ],
   "source": [
    "res2 = res.pivot(index='date', columns=['name'], values='pnl')\n",
    "res3 = res2.iloc[:, 1] - res2.iloc[:, 0] + res2.iloc[:, 2]\n",
    "res3.describe()"
   ]
  },
  {
   "cell_type": "code",
   "execution_count": null,
   "metadata": {},
   "outputs": [],
   "source": []
  }
 ],
 "metadata": {
  "kernelspec": {
   "display_name": "Python 3",
   "language": "python",
   "name": "python3"
  },
  "language_info": {
   "codemirror_mode": {
    "name": "ipython",
    "version": 3
   },
   "file_extension": ".py",
   "mimetype": "text/x-python",
   "name": "python",
   "nbconvert_exporter": "python",
   "pygments_lexer": "ipython3",
   "version": "3.7.3"
  }
 },
 "nbformat": 4,
 "nbformat_minor": 4
}
