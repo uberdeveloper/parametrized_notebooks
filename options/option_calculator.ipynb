{
 "cells": [
  {
   "cell_type": "code",
   "execution_count": 33,
   "id": "e6465dc5-088a-407f-9282-b1d7b54620e5",
   "metadata": {},
   "outputs": [],
   "source": [
    "import pandas as pd\n",
    "import numpy as np\n",
    "import py_vollib.black_scholes as bs\n",
    "from typing import Tuple"
   ]
  },
  {
   "cell_type": "code",
   "execution_count": 34,
   "id": "c661272a-f556-462a-91c7-1ccd715b386a",
   "metadata": {
    "tags": [
     "parameters"
    ]
   },
   "outputs": [],
   "source": [
    "# parameters\n",
    "option:str = 'p' # c for call and p for put\n",
    "strike:float = 16800\n",
    "spot:float = 16930\n",
    "day_range:Tuple[int,int] = (0,7)\n",
    "risk_free_rate:float = 0.1\n",
    "sigma_range:Tuple[int,int] = (0.1,0.16)\n"
   ]
  },
  {
   "cell_type": "code",
   "execution_count": 35,
   "id": "00765c7f-ff74-4d3e-9c42-9bb2e0385ee7",
   "metadata": {},
   "outputs": [],
   "source": [
    "kwargs = {\n",
    "    'flag': option,\n",
    "    'S': spot,\n",
    "    'K': strike,\n",
    "    't': 1,\n",
    "    'r': risk_free_rate,\n",
    "    'sigma': 0.1\n",
    "}"
   ]
  },
  {
   "cell_type": "code",
   "execution_count": 36,
   "id": "7a1bd1ca-9743-49a0-a630-f74cf45a4b4a",
   "metadata": {},
   "outputs": [
    {
     "data": {
      "text/html": [
       "<div>\n",
       "<style scoped>\n",
       "    .dataframe tbody tr th:only-of-type {\n",
       "        vertical-align: middle;\n",
       "    }\n",
       "\n",
       "    .dataframe tbody tr th {\n",
       "        vertical-align: top;\n",
       "    }\n",
       "\n",
       "    .dataframe thead th {\n",
       "        text-align: right;\n",
       "    }\n",
       "</style>\n",
       "<table border=\"1\" class=\"dataframe\">\n",
       "  <thead>\n",
       "    <tr style=\"text-align: right;\">\n",
       "      <th>sigma</th>\n",
       "      <th>0.10</th>\n",
       "      <th>0.11</th>\n",
       "      <th>0.12</th>\n",
       "      <th>0.13</th>\n",
       "      <th>0.14</th>\n",
       "      <th>0.15</th>\n",
       "    </tr>\n",
       "    <tr>\n",
       "      <th>days_to_expiry</th>\n",
       "      <th></th>\n",
       "      <th></th>\n",
       "      <th></th>\n",
       "      <th></th>\n",
       "      <th></th>\n",
       "      <th></th>\n",
       "    </tr>\n",
       "  </thead>\n",
       "  <tbody>\n",
       "    <tr>\n",
       "      <th>6</th>\n",
       "      <td>29.73</td>\n",
       "      <td>36.56</td>\n",
       "      <td>43.66</td>\n",
       "      <td>50.99</td>\n",
       "      <td>58.50</td>\n",
       "      <td>66.16</td>\n",
       "    </tr>\n",
       "    <tr>\n",
       "      <th>5</th>\n",
       "      <td>25.08</td>\n",
       "      <td>31.12</td>\n",
       "      <td>37.45</td>\n",
       "      <td>43.99</td>\n",
       "      <td>50.72</td>\n",
       "      <td>57.60</td>\n",
       "    </tr>\n",
       "    <tr>\n",
       "      <th>4</th>\n",
       "      <td>20.01</td>\n",
       "      <td>25.17</td>\n",
       "      <td>30.61</td>\n",
       "      <td>36.27</td>\n",
       "      <td>42.12</td>\n",
       "      <td>48.12</td>\n",
       "    </tr>\n",
       "    <tr>\n",
       "      <th>3</th>\n",
       "      <td>14.47</td>\n",
       "      <td>18.59</td>\n",
       "      <td>23.00</td>\n",
       "      <td>27.64</td>\n",
       "      <td>32.47</td>\n",
       "      <td>37.45</td>\n",
       "    </tr>\n",
       "    <tr>\n",
       "      <th>2</th>\n",
       "      <td>8.48</td>\n",
       "      <td>11.34</td>\n",
       "      <td>14.49</td>\n",
       "      <td>17.87</td>\n",
       "      <td>21.45</td>\n",
       "      <td>25.19</td>\n",
       "    </tr>\n",
       "    <tr>\n",
       "      <th>1</th>\n",
       "      <td>2.52</td>\n",
       "      <td>3.77</td>\n",
       "      <td>5.25</td>\n",
       "      <td>6.95</td>\n",
       "      <td>8.84</td>\n",
       "      <td>10.89</td>\n",
       "    </tr>\n",
       "    <tr>\n",
       "      <th>0</th>\n",
       "      <td>0.00</td>\n",
       "      <td>0.00</td>\n",
       "      <td>0.00</td>\n",
       "      <td>0.00</td>\n",
       "      <td>0.00</td>\n",
       "      <td>0.00</td>\n",
       "    </tr>\n",
       "  </tbody>\n",
       "</table>\n",
       "</div>"
      ],
      "text/plain": [
       "sigma            0.10   0.11   0.12   0.13   0.14   0.15\n",
       "days_to_expiry                                          \n",
       "6               29.73  36.56  43.66  50.99  58.50  66.16\n",
       "5               25.08  31.12  37.45  43.99  50.72  57.60\n",
       "4               20.01  25.17  30.61  36.27  42.12  48.12\n",
       "3               14.47  18.59  23.00  27.64  32.47  37.45\n",
       "2                8.48  11.34  14.49  17.87  21.45  25.19\n",
       "1                2.52   3.77   5.25   6.95   8.84  10.89\n",
       "0                0.00   0.00   0.00   0.00   0.00   0.00"
      ]
     },
     "execution_count": 36,
     "metadata": {},
     "output_type": "execute_result"
    }
   ],
   "source": [
    "collect = []\n",
    "for i in range(day_range[0], day_range[1]):\n",
    "    for j in np.arange(sigma_range[0], sigma_range[1], step=0.01):\n",
    "        kwargs.update(\n",
    "            {'t': i/360, 'sigma': j}\n",
    "        )\n",
    "        price = bs.black_scholes(**kwargs)\n",
    "        collect.append((i,j,price))\n",
    "df = pd.DataFrame(collect,\n",
    "                 columns=['days_to_expiry','sigma', 'price'])\n",
    "df.pivot(index='days_to_expiry', columns='sigma', values='price').sort_values(\n",
    "    by='days_to_expiry', ascending=False).round(2)"
   ]
  }
 ],
 "metadata": {
  "kernelspec": {
   "display_name": "Python 3",
   "language": "python",
   "name": "python3"
  },
  "language_info": {
   "codemirror_mode": {
    "name": "ipython",
    "version": 3
   },
   "file_extension": ".py",
   "mimetype": "text/x-python",
   "name": "python",
   "nbconvert_exporter": "python",
   "pygments_lexer": "ipython3",
   "version": "3.7.3"
  }
 },
 "nbformat": 4,
 "nbformat_minor": 5
}
