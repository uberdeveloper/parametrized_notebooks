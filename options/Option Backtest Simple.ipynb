{
 "cells": [
  {
   "cell_type": "code",
   "execution_count": 1,
   "metadata": {},
   "outputs": [],
   "source": [
    "import pandas as pd\n",
    "import numpy as np"
   ]
  },
  {
   "cell_type": "code",
   "execution_count": 2,
   "metadata": {
    "tags": [
     "parameters"
    ]
   },
   "outputs": [],
   "source": [
    "# Parameters\n",
    "spot_filename:str = \"/tmp/index.csv\"\n",
    "options_filename:str = \"data/nifty_options_eod.h5\"\n",
    "option_type:str = 'PE'\n",
    "start_day:int = 4\n",
    "de:int = 0\n",
    "step:int = 100 \n",
    "stop:float = 0.02"
   ]
  },
  {
   "cell_type": "code",
   "execution_count": 3,
   "metadata": {},
   "outputs": [],
   "source": [
    "index = pd.read_csv(spot_filename, parse_dates=['date'])\n",
    "opt = pd.read_hdf(options_filename).sort_values(by=['date'])\n",
    "rename = {\n",
    "    'open_price': 'open',\n",
    "    'high_price': 'high',\n",
    "    'low_price': 'low',\n",
    "    'close_pric': 'close'\n",
    "}\n",
    "opt = opt.rename(columns=rename)\n",
    "opt['de'] = (opt['expiry_date'] - opt['date']).dt.days"
   ]
  },
  {
   "cell_type": "code",
   "execution_count": 4,
   "metadata": {},
   "outputs": [],
   "source": [
    "ce = opt.query(\"opt_type=='CE'\")\n",
    "pe = opt.query(\"opt_type=='PE'\")"
   ]
  },
  {
   "cell_type": "code",
   "execution_count": 27,
   "metadata": {},
   "outputs": [
    {
     "data": {
      "text/plain": [
       "count     255.000000\n",
       "mean      -12.007451\n",
       "std       157.089709\n",
       "min      -451.950000\n",
       "25%       -69.100000\n",
       "50%       -40.050000\n",
       "75%        -1.650000\n",
       "max      1504.800000\n",
       "Name: pnl, dtype: float64"
      ]
     },
     "execution_count": 27,
     "metadata": {},
     "output_type": "execute_result"
    }
   ],
   "source": [
    "def get_result(options_data, spot_data, wkday=4, de=0, itm=0, step=100, holding_days=7):\n",
    "    weekly = spot_data.query(f\"wkday=={wkday}\").copy()\n",
    "    weekly['strike'] = [int(x/step)*step for x in weekly.close.values]\n",
    "    opts = options_data.merge(weekly[['date', 'close', 'strike']].rename(\n",
    "        columns={'close':'spot'}), on=['date', 'strike']).copy()\n",
    "    opts = opts.query(f\"de>{de}\")\n",
    "    opts = opts.sort_values(by='de').groupby('date').first().reset_index()\n",
    "    cols = ['date', 'contract_d', 'strike', 'expiry_date', 'close', 'spot']\n",
    "    entries = opts[cols].copy()\n",
    "    entries['entry_date'] = entries.date.copy()\n",
    "    exit_frame = entries.copy()\n",
    "    exit_frame['date'] = exit_frame.date + pd.DateOffset(days=holding_days)\n",
    "    del exit_frame['close'] # Since we need the other close in expiry\n",
    "    del exit_frame['contract_d'] \n",
    "    opt2 = exit_frame.merge(options_data, on=['date', 'strike', 'expiry_date'])\n",
    "    exits = opt2[cols + ['entry_date']]\n",
    "    exits = exits.rename(columns={'date':'exit_date', 'entry_date': 'date'})\n",
    "    trades = entries.merge(exits, on=['strike', 'expiry_date', 'contract_d', 'date'])\n",
    "    rename = {\n",
    "        'date_x': 'entry_date',\n",
    "        'close_x': 'entry_price',\n",
    "        'spot_x': 'entry_spot',\n",
    "        'date_y': 'exit_date',\n",
    "        'close_y': 'exit_price',\n",
    "        'spot_y': 'exit_spot'\n",
    "    }\n",
    "    trades = trades.rename(columns=rename)\n",
    "    trades['pnl'] = trades.eval('exit_price-entry_price')\n",
    "    trades['de'] = (trades['exit_date'] - trades['entry_date']).dt.days\n",
    "    return trades\n",
    "\n",
    "res = get_result(pe, index)\n",
    "res.pnl.describe()"
   ]
  }
 ],
 "metadata": {
  "kernelspec": {
   "display_name": "Python 3",
   "language": "python",
   "name": "python3"
  },
  "language_info": {
   "codemirror_mode": {
    "name": "ipython",
    "version": 3
   },
   "file_extension": ".py",
   "mimetype": "text/x-python",
   "name": "python",
   "nbconvert_exporter": "python",
   "pygments_lexer": "ipython3",
   "version": "3.7.3"
  }
 },
 "nbformat": 4,
 "nbformat_minor": 4
}
