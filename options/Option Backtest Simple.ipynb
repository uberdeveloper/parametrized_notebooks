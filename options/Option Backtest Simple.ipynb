{
 "cells": [
  {
   "cell_type": "code",
   "execution_count": 30,
   "metadata": {},
   "outputs": [],
   "source": [
    "import pandas as pd\n",
    "import numpy as np\n",
    "from typing import List, Tuple"
   ]
  },
  {
   "cell_type": "code",
   "execution_count": 31,
   "metadata": {
    "tags": [
     "parameters"
    ]
   },
   "outputs": [],
   "source": [
    "# Parameters\n",
    "spot_filename:str = \"/tmp/index.csv\"\n",
    "options_filename:str = \"../../data/nifty_options_eod.h5\"\n",
    "option_type:str = 'PE'\n",
    "start_day:int = 4\n",
    "de:int = 0\n",
    "step:int = 100 \n",
    "strikes:Tuple[float] = (0,0.01)"
   ]
  },
  {
   "cell_type": "code",
   "execution_count": 23,
   "metadata": {},
   "outputs": [],
   "source": [
    "index = pd.read_csv(spot_filename, parse_dates=['date'])\n",
    "opt = pd.read_hdf(options_filename).sort_values(by=['date'])\n",
    "rename = {\n",
    "    'open_price': 'open',\n",
    "    'high_price': 'high',\n",
    "    'low_price': 'low',\n",
    "    'close_pric': 'close'\n",
    "}\n",
    "opt = opt.rename(columns=rename)\n",
    "opt['de'] = (opt['expiry_date'] - opt['date']).dt.days"
   ]
  },
  {
   "cell_type": "code",
   "execution_count": 24,
   "metadata": {},
   "outputs": [],
   "source": [
    "ce = opt.query(\"opt_type=='CE'\")\n",
    "pe = opt.query(\"opt_type=='PE'\")"
   ]
  },
  {
   "cell_type": "code",
   "execution_count": 47,
   "metadata": {},
   "outputs": [],
   "source": [
    "def get_result(options_data, spot_data, opt='p', wkday=4, de=0, itm=0, step=100, holding_days=7):\n",
    "    weekly = spot_data.query(f\"wkday=={wkday}\").copy()\n",
    "    if opt.lower() == 'p':\n",
    "        m = 1-itm\n",
    "    else:\n",
    "        m = 1+itm\n",
    "    weekly['strike'] = [int((x*m)/step)*step for x in weekly.close.values]\n",
    "    if opt.lower() == 'p':\n",
    "        weekly['strike'] = weekly['strike'] + step\n",
    "    opts = options_data.merge(weekly[['date', 'close', 'strike']].rename(\n",
    "        columns={'close':'spot'}), on=['date', 'strike']).copy()\n",
    "    opts = opts.query(f\"de>{de}\")\n",
    "    opts = opts.sort_values(by='de').groupby('date').first().reset_index()\n",
    "    cols = ['date', 'contract_d', 'strike', 'expiry_date', 'close', 'spot']\n",
    "    entries = opts[cols].copy()\n",
    "    entries['entry_date'] = entries.date.copy()\n",
    "    exit_frame = entries.copy()\n",
    "    exit_frame['date'] = exit_frame.date + pd.DateOffset(days=holding_days)\n",
    "    del exit_frame['close'] # Since we need the other close in expiry\n",
    "    del exit_frame['contract_d'] \n",
    "    opt2 = exit_frame.merge(options_data, on=['date', 'strike', 'expiry_date'])\n",
    "    exits = opt2[cols + ['entry_date']]\n",
    "    exits = exits.rename(columns={'date':'exit_date', 'entry_date': 'date'})\n",
    "    trades = entries.merge(exits, on=['strike', 'expiry_date', 'contract_d', 'date'])\n",
    "    rename = {\n",
    "        'date_x': 'entry_date',\n",
    "        'close_x': 'entry_price',\n",
    "        'spot_x': 'entry_spot',\n",
    "        'date_y': 'exit_date',\n",
    "        'close_y': 'exit_price',\n",
    "        'spot_y': 'exit_spot'\n",
    "    }\n",
    "    trades = trades.rename(columns=rename)\n",
    "    trades['pnl'] = trades.eval('exit_price-entry_price')\n",
    "    trades['de'] = (trades['exit_date'] - trades['entry_date']).dt.days\n",
    "    return trades\n"
   ]
  },
  {
   "cell_type": "code",
   "execution_count": 53,
   "metadata": {},
   "outputs": [
    {
     "data": {
      "text/plain": [
       "count     255.000000\n",
       "mean      -10.243529\n",
       "std       156.174936\n",
       "min      -451.950000\n",
       "25%       -68.100000\n",
       "50%       -42.700000\n",
       "75%        -3.075000\n",
       "max      1504.800000\n",
       "Name: pnl, dtype: float64"
      ]
     },
     "execution_count": 53,
     "metadata": {},
     "output_type": "execute_result"
    }
   ],
   "source": [
    "get_result(pe, index, opt='p', itm=0.01, step=100, holding_days=7).pnl.describe()"
   ]
  }
 ],
 "metadata": {
  "kernelspec": {
   "display_name": "Python 3",
   "language": "python",
   "name": "python3"
  },
  "language_info": {
   "codemirror_mode": {
    "name": "ipython",
    "version": 3
   },
   "file_extension": ".py",
   "mimetype": "text/x-python",
   "name": "python",
   "nbconvert_exporter": "python",
   "pygments_lexer": "ipython3",
   "version": "3.7.3"
  }
 },
 "nbformat": 4,
 "nbformat_minor": 4
}
