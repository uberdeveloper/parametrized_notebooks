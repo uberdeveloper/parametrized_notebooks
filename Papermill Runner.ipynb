{
 "cells": [
  {
   "cell_type": "code",
   "execution_count": 55,
   "id": "f7e6be03-c5fa-4577-9ccf-84909745b903",
   "metadata": {},
   "outputs": [],
   "source": [
    "import papermill as pm\n",
    "from typing import Tuple, Dict\n",
    "import os"
   ]
  },
  {
   "cell_type": "markdown",
   "id": "da67f38b-7955-487d-842a-5cc24d8f21ce",
   "metadata": {},
   "source": [
    "## Manual\n",
    "\n",
    "This notebook takes a input notebook and a list of parameters and then saves them as separate notebooks in the given output directory\n",
    "\n",
    "* input_notebook\n",
    "        path to the input ipython notebook\n",
    "* output directory\n",
    "        output directory where the notebooks would be stored.\n",
    "        This defaults to the home directory\n",
    "* params\n",
    "        parameters to the notebook, should be a tuple of dictionaries.\n",
    "        Each of the parameters are run as a separate notebook.\n",
    "        The number of parameters can be different for each notebook.\n",
    "* names\n",
    "        Tuple with the list of names for output notebook.\n",
    "        This is to easily identify the output notebooks.\n",
    "        In case no names are given, then names are generated automatically in the format name0, name1 etc.,\n",
    "      \n",
    "Note\n",
    "-----\n",
    "1. Notebooks are run sequentially\n",
    "2. If full list of names are not provided, names are generated for the remaining notebooks\n",
    "3. Notebooks are always saved with ipynb extension\n",
    "4. If your notebook write files such as csv, then include this logic in your notebook to save each output as a separate file. You include include a name parameter in your notebook to solve this problem\n",
    "    \n",
    "   "
   ]
  },
  {
   "cell_type": "code",
   "execution_count": 56,
   "id": "0de03d92-15ca-46d1-bc0d-4c2d03ded141",
   "metadata": {
    "tags": [
     "parameters"
    ]
   },
   "outputs": [],
   "source": [
    "## parameters\n",
    "input_notebook:str = \"Example.ipynb\"\n",
    "output_directory:str = os.environ['HOME']\n",
    "params:Tuple[Dict] = (\n",
    "    {'x': 10, 'y': 20},\n",
    "    {'x': 30, 'y': 50}\n",
    ")\n",
    "names:Tuple[str] = ()"
   ]
  },
  {
   "cell_type": "code",
   "execution_count": 57,
   "id": "571d9210-67cd-4c5c-baf1-e43c69465e8b",
   "metadata": {},
   "outputs": [
    {
     "name": "stdout",
     "output_type": "stream",
     "text": [
      "('first', 'second.ipynb')\n"
     ]
    }
   ],
   "source": [
    "# Add dummy names for output notebook\n",
    "if len(names) < len(params):\n",
    "    missing_names = len(params) - len(names)\n",
    "    names = names + tuple([f\"name{i}\" for i in range(missing_names)])\n",
    "print(names)"
   ]
  },
  {
   "cell_type": "code",
   "execution_count": 58,
   "id": "ffbfd8b3-f096-434f-a8d6-c8e5dac3a4a8",
   "metadata": {},
   "outputs": [
    {
     "data": {
      "application/vnd.jupyter.widget-view+json": {
       "model_id": "d98055635e604b559a2838b37bcf4979",
       "version_major": 2,
       "version_minor": 0
      },
      "text/plain": [
       "Executing:   0%|          | 0/3 [00:00<?, ?cell/s]"
      ]
     },
     "metadata": {},
     "output_type": "display_data"
    },
    {
     "data": {
      "application/vnd.jupyter.widget-view+json": {
       "model_id": "fb7b578071b3410d8422a95e80089625",
       "version_major": 2,
       "version_minor": 0
      },
      "text/plain": [
       "Executing:   0%|          | 0/3 [00:00<?, ?cell/s]"
      ]
     },
     "metadata": {},
     "output_type": "display_data"
    }
   ],
   "source": [
    "for param, name in zip(params, names):\n",
    "    if not(name.endswith('ipynb')):\n",
    "        name = f\"{name}.ipynb\"\n",
    "    pm.execute_notebook(\n",
    "        input_notebook,\n",
    "        output_path=os.path.join(output_directory, name),\n",
    "        parameters=param,\n",
    "    )"
   ]
  }
 ],
 "metadata": {
  "kernelspec": {
   "display_name": "Python 3",
   "language": "python",
   "name": "python3"
  },
  "language_info": {
   "codemirror_mode": {
    "name": "ipython",
    "version": 3
   },
   "file_extension": ".py",
   "mimetype": "text/x-python",
   "name": "python",
   "nbconvert_exporter": "python",
   "pygments_lexer": "ipython3",
   "version": "3.7.3"
  }
 },
 "nbformat": 4,
 "nbformat_minor": 5
}
