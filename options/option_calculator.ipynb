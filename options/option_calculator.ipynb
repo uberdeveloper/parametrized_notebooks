{
 "cells": [
  {
   "cell_type": "code",
   "execution_count": 5,
   "id": "e6465dc5-088a-407f-9282-b1d7b54620e5",
   "metadata": {},
   "outputs": [],
   "source": [
    "import pandas as pd\n",
    "import numpy as np\n",
    "import py_vollib.black_scholes as bs\n",
    "from typing import Tuple"
   ]
  },
  {
   "cell_type": "code",
   "execution_count": 12,
   "id": "c661272a-f556-462a-91c7-1ccd715b386a",
   "metadata": {
    "tags": [
     "parameters"
    ]
   },
   "outputs": [],
   "source": [
    "# parameters\n",
    "option:str = 'c' # c for call and p for put\n",
    "strike:float = 16950\n",
    "spot:float = 16930\n",
    "day_range:Tuple[int,int] = (0,7)\n",
    "risk_free_rate:float = 0.1\n",
    "sigma_range:Tuple[int,int] = (0.1,0.16)\n"
   ]
  },
  {
   "cell_type": "code",
   "execution_count": 15,
   "id": "00765c7f-ff74-4d3e-9c42-9bb2e0385ee7",
   "metadata": {},
   "outputs": [],
   "source": [
    "kwargs = {\n",
    "    'flag': option,\n",
    "    'S': spot,\n",
    "    'K': strike,\n",
    "    't': 1,\n",
    "    'r': risk_free_rate,\n",
    "    'sigma': 0.1\n",
    "}"
   ]
  },
  {
   "cell_type": "code",
   "execution_count": 16,
   "id": "7a1bd1ca-9743-49a0-a630-f74cf45a4b4a",
   "metadata": {},
   "outputs": [
    {
     "data": {
      "text/html": [
       "<div>\n",
       "<style scoped>\n",
       "    .dataframe tbody tr th:only-of-type {\n",
       "        vertical-align: middle;\n",
       "    }\n",
       "\n",
       "    .dataframe tbody tr th {\n",
       "        vertical-align: top;\n",
       "    }\n",
       "\n",
       "    .dataframe thead th {\n",
       "        text-align: right;\n",
       "    }\n",
       "</style>\n",
       "<table border=\"1\" class=\"dataframe\">\n",
       "  <thead>\n",
       "    <tr style=\"text-align: right;\">\n",
       "      <th>sigma</th>\n",
       "      <th>0.10</th>\n",
       "      <th>0.11</th>\n",
       "      <th>0.12</th>\n",
       "      <th>0.13</th>\n",
       "      <th>0.14</th>\n",
       "      <th>0.15</th>\n",
       "    </tr>\n",
       "    <tr>\n",
       "      <th>days_to_expiry</th>\n",
       "      <th></th>\n",
       "      <th></th>\n",
       "      <th></th>\n",
       "      <th></th>\n",
       "      <th></th>\n",
       "      <th></th>\n",
       "    </tr>\n",
       "  </thead>\n",
       "  <tbody>\n",
       "    <tr>\n",
       "      <th>6</th>\n",
       "      <td>91.35</td>\n",
       "      <td>100.06</td>\n",
       "      <td>108.77</td>\n",
       "      <td>117.49</td>\n",
       "      <td>126.20</td>\n",
       "      <td>134.91</td>\n",
       "    </tr>\n",
       "    <tr>\n",
       "      <th>5</th>\n",
       "      <td>81.36</td>\n",
       "      <td>89.32</td>\n",
       "      <td>97.28</td>\n",
       "      <td>105.24</td>\n",
       "      <td>113.20</td>\n",
       "      <td>121.15</td>\n",
       "    </tr>\n",
       "    <tr>\n",
       "      <th>4</th>\n",
       "      <td>70.61</td>\n",
       "      <td>77.73</td>\n",
       "      <td>84.85</td>\n",
       "      <td>91.97</td>\n",
       "      <td>99.09</td>\n",
       "      <td>106.21</td>\n",
       "    </tr>\n",
       "    <tr>\n",
       "      <th>3</th>\n",
       "      <td>58.77</td>\n",
       "      <td>64.93</td>\n",
       "      <td>71.10</td>\n",
       "      <td>77.26</td>\n",
       "      <td>83.42</td>\n",
       "      <td>89.59</td>\n",
       "    </tr>\n",
       "    <tr>\n",
       "      <th>2</th>\n",
       "      <td>45.24</td>\n",
       "      <td>50.26</td>\n",
       "      <td>55.28</td>\n",
       "      <td>60.31</td>\n",
       "      <td>65.33</td>\n",
       "      <td>70.36</td>\n",
       "    </tr>\n",
       "    <tr>\n",
       "      <th>1</th>\n",
       "      <td>28.49</td>\n",
       "      <td>32.00</td>\n",
       "      <td>35.52</td>\n",
       "      <td>39.05</td>\n",
       "      <td>42.59</td>\n",
       "      <td>46.12</td>\n",
       "    </tr>\n",
       "    <tr>\n",
       "      <th>0</th>\n",
       "      <td>0.00</td>\n",
       "      <td>0.00</td>\n",
       "      <td>0.00</td>\n",
       "      <td>0.00</td>\n",
       "      <td>0.00</td>\n",
       "      <td>0.00</td>\n",
       "    </tr>\n",
       "  </tbody>\n",
       "</table>\n",
       "</div>"
      ],
      "text/plain": [
       "sigma            0.10    0.11    0.12    0.13    0.14    0.15\n",
       "days_to_expiry                                               \n",
       "6               91.35  100.06  108.77  117.49  126.20  134.91\n",
       "5               81.36   89.32   97.28  105.24  113.20  121.15\n",
       "4               70.61   77.73   84.85   91.97   99.09  106.21\n",
       "3               58.77   64.93   71.10   77.26   83.42   89.59\n",
       "2               45.24   50.26   55.28   60.31   65.33   70.36\n",
       "1               28.49   32.00   35.52   39.05   42.59   46.12\n",
       "0                0.00    0.00    0.00    0.00    0.00    0.00"
      ]
     },
     "execution_count": 16,
     "metadata": {},
     "output_type": "execute_result"
    }
   ],
   "source": [
    "collect = []\n",
    "for i in range(day_range[0], day_range[1]):\n",
    "    for j in np.arange(sigma_range[0], sigma_range[1], step=0.01):\n",
    "        kwargs.update(\n",
    "            {'t': i/360, 'sigma': j}\n",
    "        )\n",
    "        price = bs.black_scholes(**kwargs)\n",
    "        collect.append((i,j,price))\n",
    "df = pd.DataFrame(collect,\n",
    "                 columns=['days_to_expiry','sigma', 'price'])\n",
    "df.pivot(index='days_to_expiry', columns='sigma', values='price').sort_values(\n",
    "    by='days_to_expiry', ascending=False).round(2)"
   ]
  }
 ],
 "metadata": {
  "kernelspec": {
   "display_name": "Python 3",
   "language": "python",
   "name": "python3"
  },
  "language_info": {
   "codemirror_mode": {
    "name": "ipython",
    "version": 3
   },
   "file_extension": ".py",
   "mimetype": "text/x-python",
   "name": "python",
   "nbconvert_exporter": "python",
   "pygments_lexer": "ipython3",
   "version": "3.7.3"
  }
 },
 "nbformat": 4,
 "nbformat_minor": 5
}
