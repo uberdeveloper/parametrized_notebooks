{
 "cells": [
  {
   "cell_type": "markdown",
   "id": "948c4a60-2812-44a3-b0e9-d8d09a704316",
   "metadata": {
    "tags": []
   },
   "source": [
    "# Lot compounding\n",
    "\n",
    "This notebook looks at methods on compounding lots; futures and options contracts that could be traded only in specific lots. Since these cannot be compounded in a fine grained manner, let us start with some simple methods.\n",
    "\n",
    "Assumptions\n",
    "------------\n",
    "\n",
    " 1. Profit and loss is expressed in points per contract\n",
    " 2. Capital required per contract is fairly stable over time. This is important in case you are **selling options**.\n",
    " 3. Commissions and slippage is included in the profit and loss\n",
    " \n",
    " "
   ]
  },
  {
   "cell_type": "markdown",
   "id": "417cee92-fcc2-4fd3-bd90-e4e65253aee1",
   "metadata": {
    "tags": []
   },
   "source": [
    "## Simple Method\n",
    "\n",
    "In the simple method, we allocate capital per lot based on capital required per lot and add maximum expected loss for a single lot. Maximum expected loss is the maximum loss per trade multiplied by the number of expected consecutive losing trade. We assume we could **estimate maximum loss per trade reasonably well.**\n",
    "\n",
    "\n",
    "Example\n",
    "-------\n",
    "    Lot size = 100\n",
    "    Capital required per lot = 50000\n",
    "    Maximum loss in points per trade = 50\n",
    "    Expected consecutive losses = 10\n",
    "    Expected maximum loss = 50*10*100 = 50000\n",
    "    Total capital to be allocated = 50000+50000 = 100000\n",
    "    \n",
    "\n",
    "So, lots would be increased if we earn necessary capital per lot and we would keep on trading till we exhaust our buffer. In this case, we would increase the lot size if we earn 50000 and keep on trading till our total capital falls to 50000.\n",
    "\n",
    "> Number of lots to trade = **int((total capital - expected maximum loss)/capital per lot)**\n"
   ]
  },
  {
   "cell_type": "code",
   "execution_count": 6,
   "id": "b0835e67-d3e6-4bf9-bcd5-21779146b836",
   "metadata": {},
   "outputs": [],
   "source": [
    "import pandas as pd\n",
    "import numpy as np\n",
    "from typing import Union, List, Tuple"
   ]
  },
  {
   "cell_type": "code",
   "execution_count": 16,
   "id": "06459039-f7f9-49a7-ac28-594d9fbc4d9f",
   "metadata": {},
   "outputs": [],
   "source": [
    "def lot_compounding(pnl:Union[pd.Series, List, Tuple], initial_capital:float=100000,\n",
    "                   capital_per_lot:float=50000, buffer:float=50000, lot_size:float=100)->pd.DataFrame:\n",
    "    \"\"\"\n",
    "    Compounding based on loss\n",
    "    pnl\n",
    "        profit or loss in points per contract\n",
    "        points should not be multiplied by lot size\n",
    "    initial_capital\n",
    "        initial capital invested includes both capital per lot and buffer\n",
    "    capital_per_lot\n",
    "        capital required per lot\n",
    "    buffer\n",
    "        buffer for drawdown for a single lot\n",
    "    lot_size\n",
    "        lot size\n",
    "    \"\"\"\n",
    "    capital = initial_capital\n",
    "    capital_arr = []\n",
    "    lots_arr = []\n",
    "    for p in pnl:\n",
    "        lots = int((capital-buffer)/capital_per_lot)\n",
    "        if lots == 0:\n",
    "            if capital < capital_per_lot:\n",
    "                lots = 1\n",
    "        if lots > 0:\n",
    "            profit = p*lot_size*lots\n",
    "            capital += profit\n",
    "        capital_arr.append(capital)\n",
    "        lots_arr.append(lots)\n",
    "        index = [pnl.index if type(pnl)==pd.Series else np.arange(len(pnl))]\n",
    "    return pd.DataFrame({\n",
    "        'capital': capital_arr,\n",
    "        'lots': lots_arr\n",
    "    }, index=index)\n",
    "\n",
    "            "
   ]
  },
  {
   "cell_type": "markdown",
   "id": "9bc5f5ac-42b1-4aa7-8895-9fd8d6d97378",
   "metadata": {},
   "source": [
    "## Let us try a few simple cases"
   ]
  },
  {
   "cell_type": "code",
   "execution_count": 18,
   "id": "4311826d-dd00-4487-84ec-c81ea7421510",
   "metadata": {},
   "outputs": [
    {
     "data": {
      "text/html": [
       "<div>\n",
       "<style scoped>\n",
       "    .dataframe tbody tr th:only-of-type {\n",
       "        vertical-align: middle;\n",
       "    }\n",
       "\n",
       "    .dataframe tbody tr th {\n",
       "        vertical-align: top;\n",
       "    }\n",
       "\n",
       "    .dataframe thead th {\n",
       "        text-align: right;\n",
       "    }\n",
       "</style>\n",
       "<table border=\"1\" class=\"dataframe\">\n",
       "  <thead>\n",
       "    <tr style=\"text-align: right;\">\n",
       "      <th></th>\n",
       "      <th>capital</th>\n",
       "      <th>lots</th>\n",
       "    </tr>\n",
       "  </thead>\n",
       "  <tbody>\n",
       "    <tr>\n",
       "      <th>0</th>\n",
       "      <td>110000</td>\n",
       "      <td>1</td>\n",
       "    </tr>\n",
       "    <tr>\n",
       "      <th>1</th>\n",
       "      <td>120000</td>\n",
       "      <td>1</td>\n",
       "    </tr>\n",
       "    <tr>\n",
       "      <th>2</th>\n",
       "      <td>130000</td>\n",
       "      <td>1</td>\n",
       "    </tr>\n",
       "    <tr>\n",
       "      <th>3</th>\n",
       "      <td>140000</td>\n",
       "      <td>1</td>\n",
       "    </tr>\n",
       "    <tr>\n",
       "      <th>4</th>\n",
       "      <td>150000</td>\n",
       "      <td>1</td>\n",
       "    </tr>\n",
       "    <tr>\n",
       "      <th>5</th>\n",
       "      <td>170000</td>\n",
       "      <td>2</td>\n",
       "    </tr>\n",
       "  </tbody>\n",
       "</table>\n",
       "</div>"
      ],
      "text/plain": [
       "   capital  lots\n",
       "0   110000     1\n",
       "1   120000     1\n",
       "2   130000     1\n",
       "3   140000     1\n",
       "4   150000     1\n",
       "5   170000     2"
      ]
     },
     "execution_count": 18,
     "metadata": {},
     "output_type": "execute_result"
    }
   ],
   "source": [
    "pnl = [100] * 6\n",
    "lot_compounding(pnl)"
   ]
  }
 ],
 "metadata": {
  "kernelspec": {
   "display_name": "Python 3",
   "language": "python",
   "name": "python3"
  },
  "language_info": {
   "codemirror_mode": {
    "name": "ipython",
    "version": 3
   },
   "file_extension": ".py",
   "mimetype": "text/x-python",
   "name": "python",
   "nbconvert_exporter": "python",
   "pygments_lexer": "ipython3",
   "version": "3.7.3"
  }
 },
 "nbformat": 4,
 "nbformat_minor": 5
}
