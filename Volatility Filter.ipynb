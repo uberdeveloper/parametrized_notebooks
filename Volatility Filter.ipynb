{
 "cells": [
  {
   "cell_type": "code",
   "execution_count": 333,
   "id": "3c46efbb-5b87-4383-8c47-53face9b5d82",
   "metadata": {},
   "outputs": [],
   "source": [
    "import pandas as pd"
   ]
  },
  {
   "cell_type": "code",
   "execution_count": 334,
   "id": "84b05bf5-8652-4f93-90f1-a8c0b3bb0a83",
   "metadata": {
    "tags": [
     "parameters"
    ]
   },
   "outputs": [],
   "source": [
    "# parameters\n",
    "# File must have date,open,high,low,close columns\n",
    "filename:str = '/tmp/stk.csv'\n",
    "window:int = 120 \n",
    "holding:int = 10\n",
    "threshold:float = 0.03"
   ]
  },
  {
   "cell_type": "code",
   "execution_count": 335,
   "id": "bbe252ac-b139-424e-a934-9b4aeb87ede9",
   "metadata": {},
   "outputs": [],
   "source": [
    "df = pd.read_csv(filename, parse_dates=['date'])"
   ]
  },
  {
   "cell_type": "code",
   "execution_count": 340,
   "id": "d2428298-6e47-48bf-b7dd-49ddba3abbe7",
   "metadata": {},
   "outputs": [
    {
     "data": {
      "text/plain": [
       "count    120.000000\n",
       "mean       0.020395\n",
       "std        0.107798\n",
       "min       -0.513832\n",
       "25%       -0.005754\n",
       "50%        0.023459\n",
       "75%        0.055741\n",
       "max        0.379064\n",
       "Name: fret, dtype: float64"
      ]
     },
     "execution_count": 340,
     "metadata": {},
     "output_type": "execute_result"
    }
   ],
   "source": [
    "df['h'] = df.high.rolling(window).max()\n",
    "df['l'] = df.low.rolling(window).min()\n",
    "df['dh'] = df.eval('(h/close)-1')\n",
    "df['dl'] = df.eval('(close/l)-1')\n",
    "df['fret'] = df.close.pct_change(holding).shift(-holding)\n",
    "df['year'] = df.date.dt.year\n",
    "df.fret.describe()\n",
    "df.query(f\"dl<{threshold}\").fret.describe()"
   ]
  }
 ],
 "metadata": {
  "kernelspec": {
   "display_name": "Python 3",
   "language": "python",
   "name": "python3"
  },
  "language_info": {
   "codemirror_mode": {
    "name": "ipython",
    "version": 3
   },
   "file_extension": ".py",
   "mimetype": "text/x-python",
   "name": "python",
   "nbconvert_exporter": "python",
   "pygments_lexer": "ipython3",
   "version": "3.7.3"
  }
 },
 "nbformat": 4,
 "nbformat_minor": 5
}
